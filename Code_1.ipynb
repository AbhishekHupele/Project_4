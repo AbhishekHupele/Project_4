{
 "cells": [
  {
   "cell_type": "code",
   "execution_count": 1,
   "metadata": {},
   "outputs": [],
   "source": [
    "# Load Libraries\n",
    "import pandas as pd\n",
    "import numpy as np\n",
    "%matplotlib inline\n",
    "import matplotlib.pyplot as plt"
   ]
  },
  {
   "cell_type": "code",
   "execution_count": 2,
   "metadata": {},
   "outputs": [],
   "source": [
    "# Load Data file\n",
    "data = pd.read_csv('day.csv')\n",
    "data_org = data.copy()"
   ]
  },
  {
   "cell_type": "code",
   "execution_count": 3,
   "metadata": {},
   "outputs": [],
   "source": [
    "# Numerical and Cateorical Variables\n",
    "num_var = ['temp', 'atemp', 'hum', 'windspeed', 'casual', 'registered', 'cnt']\n",
    "cat_var = ['instant', 'season', 'yr', 'mnth', 'holiday', 'weekday', 'workingday', 'weathersit']"
   ]
  },
  {
   "cell_type": "code",
   "execution_count": 4,
   "metadata": {},
   "outputs": [
    {
     "data": {
      "text/plain": [
       "\"# assigining categories/levels to categorical variable\\nfor i in data.columns :\\n    if data[i].dtypes == 'object' :\\n        data[i] = pd.Categorical(data[i])\\n        data[i] = data[i].cat.codes\\ndata.info()\""
      ]
     },
     "execution_count": 4,
     "metadata": {},
     "output_type": "execute_result"
    }
   ],
   "source": [
    "'''# assigining categories/levels to categorical variable\n",
    "for i in data.columns :\n",
    "    if data[i].dtypes == 'object' :\n",
    "        data[i] = pd.Categorical(data[i])\n",
    "        data[i] = data[i].cat.codes\n",
    "data.info()'''"
   ]
  },
  {
   "cell_type": "code",
   "execution_count": 5,
   "metadata": {},
   "outputs": [
    {
     "name": "stdout",
     "output_type": "stream",
     "text": [
      "instant 0\n",
      "dteday 0\n",
      "season 0\n",
      "yr 0\n",
      "mnth 0\n",
      "holiday 0\n",
      "weekday 0\n",
      "workingday 0\n",
      "weathersit 0\n",
      "temp 0\n",
      "atemp 0\n",
      "hum 0\n",
      "windspeed 0\n",
      "casual 0\n",
      "registered 0\n",
      "cnt 0\n"
     ]
    }
   ],
   "source": [
    "# Checking for Missing Values\n",
    "for i in data.columns :\n",
    "    print(i, data[i].isnull().sum())"
   ]
  },
  {
   "cell_type": "code",
   "execution_count": 6,
   "metadata": {},
   "outputs": [
    {
     "data": {
      "text/html": [
       "<style  type=\"text/css\" >\n",
       "    #T_49423274_b41d_11e8_ba0c_3035adde0af8 th {\n",
       "          font-size: 7pt;\n",
       "    }    #T_49423274_b41d_11e8_ba0c_3035adde0af8 td {\n",
       "          padding: 0em 0em;\n",
       "    }    #T_49423274_b41d_11e8_ba0c_3035adde0af8 th:hover {\n",
       "          font-size: 12pt;\n",
       "    }    #T_49423274_b41d_11e8_ba0c_3035adde0af8 tr:hover td:hover {\n",
       "          max-width: 200px;\n",
       "          font-size: 12pt;\n",
       "    }    #T_49423274_b41d_11e8_ba0c_3035adde0af8row0_col0 {\n",
       "            background-color:  #4479bb;\n",
       "            max-width:  80px;\n",
       "            font-size:  10pt;\n",
       "        }    #T_49423274_b41d_11e8_ba0c_3035adde0af8row0_col1 {\n",
       "            background-color:  #457abb;\n",
       "            max-width:  80px;\n",
       "            font-size:  10pt;\n",
       "        }    #T_49423274_b41d_11e8_ba0c_3035adde0af8row0_col2 {\n",
       "            background-color:  #e994a5;\n",
       "            max-width:  80px;\n",
       "            font-size:  10pt;\n",
       "        }    #T_49423274_b41d_11e8_ba0c_3035adde0af8row0_col3 {\n",
       "            background-color:  #d73c5b;\n",
       "            max-width:  80px;\n",
       "            font-size:  10pt;\n",
       "        }    #T_49423274_b41d_11e8_ba0c_3035adde0af8row0_col4 {\n",
       "            background-color:  #cedced;\n",
       "            max-width:  80px;\n",
       "            font-size:  10pt;\n",
       "        }    #T_49423274_b41d_11e8_ba0c_3035adde0af8row0_col5 {\n",
       "            background-color:  #cfddee;\n",
       "            max-width:  80px;\n",
       "            font-size:  10pt;\n",
       "        }    #T_49423274_b41d_11e8_ba0c_3035adde0af8row0_col6 {\n",
       "            background-color:  #b5cae4;\n",
       "            max-width:  80px;\n",
       "            font-size:  10pt;\n",
       "        }    #T_49423274_b41d_11e8_ba0c_3035adde0af8row1_col0 {\n",
       "            background-color:  #457abb;\n",
       "            max-width:  80px;\n",
       "            font-size:  10pt;\n",
       "        }    #T_49423274_b41d_11e8_ba0c_3035adde0af8row1_col1 {\n",
       "            background-color:  #4479bb;\n",
       "            max-width:  80px;\n",
       "            font-size:  10pt;\n",
       "        }    #T_49423274_b41d_11e8_ba0c_3035adde0af8row1_col2 {\n",
       "            background-color:  #eb9ead;\n",
       "            max-width:  80px;\n",
       "            font-size:  10pt;\n",
       "        }    #T_49423274_b41d_11e8_ba0c_3035adde0af8row1_col3 {\n",
       "            background-color:  #d73c5b;\n",
       "            max-width:  80px;\n",
       "            font-size:  10pt;\n",
       "        }    #T_49423274_b41d_11e8_ba0c_3035adde0af8row1_col4 {\n",
       "            background-color:  #cbdaec;\n",
       "            max-width:  80px;\n",
       "            font-size:  10pt;\n",
       "        }    #T_49423274_b41d_11e8_ba0c_3035adde0af8row1_col5 {\n",
       "            background-color:  #cbdaec;\n",
       "            max-width:  80px;\n",
       "            font-size:  10pt;\n",
       "        }    #T_49423274_b41d_11e8_ba0c_3035adde0af8row1_col6 {\n",
       "            background-color:  #b1c7e2;\n",
       "            max-width:  80px;\n",
       "            font-size:  10pt;\n",
       "        }    #T_49423274_b41d_11e8_ba0c_3035adde0af8row2_col0 {\n",
       "            background-color:  #eda8b6;\n",
       "            max-width:  80px;\n",
       "            font-size:  10pt;\n",
       "        }    #T_49423274_b41d_11e8_ba0c_3035adde0af8row2_col1 {\n",
       "            background-color:  #eeacba;\n",
       "            max-width:  80px;\n",
       "            font-size:  10pt;\n",
       "        }    #T_49423274_b41d_11e8_ba0c_3035adde0af8row2_col2 {\n",
       "            background-color:  #4479bb;\n",
       "            max-width:  80px;\n",
       "            font-size:  10pt;\n",
       "        }    #T_49423274_b41d_11e8_ba0c_3035adde0af8row2_col3 {\n",
       "            background-color:  #d73c5b;\n",
       "            max-width:  80px;\n",
       "            font-size:  10pt;\n",
       "        }    #T_49423274_b41d_11e8_ba0c_3035adde0af8row2_col4 {\n",
       "            background-color:  #e16d85;\n",
       "            max-width:  80px;\n",
       "            font-size:  10pt;\n",
       "        }    #T_49423274_b41d_11e8_ba0c_3035adde0af8row2_col5 {\n",
       "            background-color:  #e16981;\n",
       "            max-width:  80px;\n",
       "            font-size:  10pt;\n",
       "        }    #T_49423274_b41d_11e8_ba0c_3035adde0af8row2_col6 {\n",
       "            background-color:  #e0667e;\n",
       "            max-width:  80px;\n",
       "            font-size:  10pt;\n",
       "        }    #T_49423274_b41d_11e8_ba0c_3035adde0af8row3_col0 {\n",
       "            background-color:  #dc5570;\n",
       "            max-width:  80px;\n",
       "            font-size:  10pt;\n",
       "        }    #T_49423274_b41d_11e8_ba0c_3035adde0af8row3_col1 {\n",
       "            background-color:  #db4e6a;\n",
       "            max-width:  80px;\n",
       "            font-size:  10pt;\n",
       "        }    #T_49423274_b41d_11e8_ba0c_3035adde0af8row3_col2 {\n",
       "            background-color:  #d73c5b;\n",
       "            max-width:  80px;\n",
       "            font-size:  10pt;\n",
       "        }    #T_49423274_b41d_11e8_ba0c_3035adde0af8row3_col3 {\n",
       "            background-color:  #4479bb;\n",
       "            max-width:  80px;\n",
       "            font-size:  10pt;\n",
       "        }    #T_49423274_b41d_11e8_ba0c_3035adde0af8row3_col4 {\n",
       "            background-color:  #dc526e;\n",
       "            max-width:  80px;\n",
       "            font-size:  10pt;\n",
       "        }    #T_49423274_b41d_11e8_ba0c_3035adde0af8row3_col5 {\n",
       "            background-color:  #d94462;\n",
       "            max-width:  80px;\n",
       "            font-size:  10pt;\n",
       "        }    #T_49423274_b41d_11e8_ba0c_3035adde0af8row3_col6 {\n",
       "            background-color:  #d83e5d;\n",
       "            max-width:  80px;\n",
       "            font-size:  10pt;\n",
       "        }    #T_49423274_b41d_11e8_ba0c_3035adde0af8row4_col0 {\n",
       "            background-color:  #cedced;\n",
       "            max-width:  80px;\n",
       "            font-size:  10pt;\n",
       "        }    #T_49423274_b41d_11e8_ba0c_3035adde0af8row4_col1 {\n",
       "            background-color:  #cedced;\n",
       "            max-width:  80px;\n",
       "            font-size:  10pt;\n",
       "        }    #T_49423274_b41d_11e8_ba0c_3035adde0af8row4_col2 {\n",
       "            background-color:  #dd5671;\n",
       "            max-width:  80px;\n",
       "            font-size:  10pt;\n",
       "        }    #T_49423274_b41d_11e8_ba0c_3035adde0af8row4_col3 {\n",
       "            background-color:  #d73c5b;\n",
       "            max-width:  80px;\n",
       "            font-size:  10pt;\n",
       "        }    #T_49423274_b41d_11e8_ba0c_3035adde0af8row4_col4 {\n",
       "            background-color:  #4479bb;\n",
       "            max-width:  80px;\n",
       "            font-size:  10pt;\n",
       "        }    #T_49423274_b41d_11e8_ba0c_3035adde0af8row4_col5 {\n",
       "            background-color:  #f2f2f2;\n",
       "            max-width:  80px;\n",
       "            font-size:  10pt;\n",
       "        }    #T_49423274_b41d_11e8_ba0c_3035adde0af8row4_col6 {\n",
       "            background-color:  #a6bfde;\n",
       "            max-width:  80px;\n",
       "            font-size:  10pt;\n",
       "        }    #T_49423274_b41d_11e8_ba0c_3035adde0af8row5_col0 {\n",
       "            background-color:  #c9d8eb;\n",
       "            max-width:  80px;\n",
       "            font-size:  10pt;\n",
       "        }    #T_49423274_b41d_11e8_ba0c_3035adde0af8row5_col1 {\n",
       "            background-color:  #c7d7eb;\n",
       "            max-width:  80px;\n",
       "            font-size:  10pt;\n",
       "        }    #T_49423274_b41d_11e8_ba0c_3035adde0af8row5_col2 {\n",
       "            background-color:  #df617a;\n",
       "            max-width:  80px;\n",
       "            font-size:  10pt;\n",
       "        }    #T_49423274_b41d_11e8_ba0c_3035adde0af8row5_col3 {\n",
       "            background-color:  #d73c5b;\n",
       "            max-width:  80px;\n",
       "            font-size:  10pt;\n",
       "        }    #T_49423274_b41d_11e8_ba0c_3035adde0af8row5_col4 {\n",
       "            background-color:  #f2f2f2;\n",
       "            max-width:  80px;\n",
       "            font-size:  10pt;\n",
       "        }    #T_49423274_b41d_11e8_ba0c_3035adde0af8row5_col5 {\n",
       "            background-color:  #4479bb;\n",
       "            max-width:  80px;\n",
       "            font-size:  10pt;\n",
       "        }    #T_49423274_b41d_11e8_ba0c_3035adde0af8row5_col6 {\n",
       "            background-color:  #5384c0;\n",
       "            max-width:  80px;\n",
       "            font-size:  10pt;\n",
       "        }    #T_49423274_b41d_11e8_ba0c_3035adde0af8row6_col0 {\n",
       "            background-color:  #aec5e1;\n",
       "            max-width:  80px;\n",
       "            font-size:  10pt;\n",
       "        }    #T_49423274_b41d_11e8_ba0c_3035adde0af8row6_col1 {\n",
       "            background-color:  #adc4e1;\n",
       "            max-width:  80px;\n",
       "            font-size:  10pt;\n",
       "        }    #T_49423274_b41d_11e8_ba0c_3035adde0af8row6_col2 {\n",
       "            background-color:  #df627b;\n",
       "            max-width:  80px;\n",
       "            font-size:  10pt;\n",
       "        }    #T_49423274_b41d_11e8_ba0c_3035adde0af8row6_col3 {\n",
       "            background-color:  #d73c5b;\n",
       "            max-width:  80px;\n",
       "            font-size:  10pt;\n",
       "        }    #T_49423274_b41d_11e8_ba0c_3035adde0af8row6_col4 {\n",
       "            background-color:  #a0bbdc;\n",
       "            max-width:  80px;\n",
       "            font-size:  10pt;\n",
       "        }    #T_49423274_b41d_11e8_ba0c_3035adde0af8row6_col5 {\n",
       "            background-color:  #5384c0;\n",
       "            max-width:  80px;\n",
       "            font-size:  10pt;\n",
       "        }    #T_49423274_b41d_11e8_ba0c_3035adde0af8row6_col6 {\n",
       "            background-color:  #4479bb;\n",
       "            max-width:  80px;\n",
       "            font-size:  10pt;\n",
       "        }</style>  \n",
       "<table id=\"T_49423274_b41d_11e8_ba0c_3035adde0af8\" ><caption>Hover to magify</caption> \n",
       "<thead>    <tr> \n",
       "        <th class=\"blank level0\" ></th> \n",
       "        <th class=\"col_heading level0 col0\" >temp</th> \n",
       "        <th class=\"col_heading level0 col1\" >atemp</th> \n",
       "        <th class=\"col_heading level0 col2\" >hum</th> \n",
       "        <th class=\"col_heading level0 col3\" >windspeed</th> \n",
       "        <th class=\"col_heading level0 col4\" >casual</th> \n",
       "        <th class=\"col_heading level0 col5\" >registered</th> \n",
       "        <th class=\"col_heading level0 col6\" >cnt</th> \n",
       "    </tr></thead> \n",
       "<tbody>    <tr> \n",
       "        <th id=\"T_49423274_b41d_11e8_ba0c_3035adde0af8level0_row0\" class=\"row_heading level0 row0\" >temp</th> \n",
       "        <td id=\"T_49423274_b41d_11e8_ba0c_3035adde0af8row0_col0\" class=\"data row0 col0\" >1</td> \n",
       "        <td id=\"T_49423274_b41d_11e8_ba0c_3035adde0af8row0_col1\" class=\"data row0 col1\" >0.99</td> \n",
       "        <td id=\"T_49423274_b41d_11e8_ba0c_3035adde0af8row0_col2\" class=\"data row0 col2\" >0.13</td> \n",
       "        <td id=\"T_49423274_b41d_11e8_ba0c_3035adde0af8row0_col3\" class=\"data row0 col3\" >-0.16</td> \n",
       "        <td id=\"T_49423274_b41d_11e8_ba0c_3035adde0af8row0_col4\" class=\"data row0 col4\" >0.54</td> \n",
       "        <td id=\"T_49423274_b41d_11e8_ba0c_3035adde0af8row0_col5\" class=\"data row0 col5\" >0.54</td> \n",
       "        <td id=\"T_49423274_b41d_11e8_ba0c_3035adde0af8row0_col6\" class=\"data row0 col6\" >0.63</td> \n",
       "    </tr>    <tr> \n",
       "        <th id=\"T_49423274_b41d_11e8_ba0c_3035adde0af8level0_row1\" class=\"row_heading level0 row1\" >atemp</th> \n",
       "        <td id=\"T_49423274_b41d_11e8_ba0c_3035adde0af8row1_col0\" class=\"data row1 col0\" >0.99</td> \n",
       "        <td id=\"T_49423274_b41d_11e8_ba0c_3035adde0af8row1_col1\" class=\"data row1 col1\" >1</td> \n",
       "        <td id=\"T_49423274_b41d_11e8_ba0c_3035adde0af8row1_col2\" class=\"data row1 col2\" >0.14</td> \n",
       "        <td id=\"T_49423274_b41d_11e8_ba0c_3035adde0af8row1_col3\" class=\"data row1 col3\" >-0.18</td> \n",
       "        <td id=\"T_49423274_b41d_11e8_ba0c_3035adde0af8row1_col4\" class=\"data row1 col4\" >0.54</td> \n",
       "        <td id=\"T_49423274_b41d_11e8_ba0c_3035adde0af8row1_col5\" class=\"data row1 col5\" >0.54</td> \n",
       "        <td id=\"T_49423274_b41d_11e8_ba0c_3035adde0af8row1_col6\" class=\"data row1 col6\" >0.63</td> \n",
       "    </tr>    <tr> \n",
       "        <th id=\"T_49423274_b41d_11e8_ba0c_3035adde0af8level0_row2\" class=\"row_heading level0 row2\" >hum</th> \n",
       "        <td id=\"T_49423274_b41d_11e8_ba0c_3035adde0af8row2_col0\" class=\"data row2 col0\" >0.13</td> \n",
       "        <td id=\"T_49423274_b41d_11e8_ba0c_3035adde0af8row2_col1\" class=\"data row2 col1\" >0.14</td> \n",
       "        <td id=\"T_49423274_b41d_11e8_ba0c_3035adde0af8row2_col2\" class=\"data row2 col2\" >1</td> \n",
       "        <td id=\"T_49423274_b41d_11e8_ba0c_3035adde0af8row2_col3\" class=\"data row2 col3\" >-0.25</td> \n",
       "        <td id=\"T_49423274_b41d_11e8_ba0c_3035adde0af8row2_col4\" class=\"data row2 col4\" >-0.077</td> \n",
       "        <td id=\"T_49423274_b41d_11e8_ba0c_3035adde0af8row2_col5\" class=\"data row2 col5\" >-0.091</td> \n",
       "        <td id=\"T_49423274_b41d_11e8_ba0c_3035adde0af8row2_col6\" class=\"data row2 col6\" >-0.1</td> \n",
       "    </tr>    <tr> \n",
       "        <th id=\"T_49423274_b41d_11e8_ba0c_3035adde0af8level0_row3\" class=\"row_heading level0 row3\" >windspeed</th> \n",
       "        <td id=\"T_49423274_b41d_11e8_ba0c_3035adde0af8row3_col0\" class=\"data row3 col0\" >-0.16</td> \n",
       "        <td id=\"T_49423274_b41d_11e8_ba0c_3035adde0af8row3_col1\" class=\"data row3 col1\" >-0.18</td> \n",
       "        <td id=\"T_49423274_b41d_11e8_ba0c_3035adde0af8row3_col2\" class=\"data row3 col2\" >-0.25</td> \n",
       "        <td id=\"T_49423274_b41d_11e8_ba0c_3035adde0af8row3_col3\" class=\"data row3 col3\" >1</td> \n",
       "        <td id=\"T_49423274_b41d_11e8_ba0c_3035adde0af8row3_col4\" class=\"data row3 col4\" >-0.17</td> \n",
       "        <td id=\"T_49423274_b41d_11e8_ba0c_3035adde0af8row3_col5\" class=\"data row3 col5\" >-0.22</td> \n",
       "        <td id=\"T_49423274_b41d_11e8_ba0c_3035adde0af8row3_col6\" class=\"data row3 col6\" >-0.23</td> \n",
       "    </tr>    <tr> \n",
       "        <th id=\"T_49423274_b41d_11e8_ba0c_3035adde0af8level0_row4\" class=\"row_heading level0 row4\" >casual</th> \n",
       "        <td id=\"T_49423274_b41d_11e8_ba0c_3035adde0af8row4_col0\" class=\"data row4 col0\" >0.54</td> \n",
       "        <td id=\"T_49423274_b41d_11e8_ba0c_3035adde0af8row4_col1\" class=\"data row4 col1\" >0.54</td> \n",
       "        <td id=\"T_49423274_b41d_11e8_ba0c_3035adde0af8row4_col2\" class=\"data row4 col2\" >-0.077</td> \n",
       "        <td id=\"T_49423274_b41d_11e8_ba0c_3035adde0af8row4_col3\" class=\"data row4 col3\" >-0.17</td> \n",
       "        <td id=\"T_49423274_b41d_11e8_ba0c_3035adde0af8row4_col4\" class=\"data row4 col4\" >1</td> \n",
       "        <td id=\"T_49423274_b41d_11e8_ba0c_3035adde0af8row4_col5\" class=\"data row4 col5\" >0.4</td> \n",
       "        <td id=\"T_49423274_b41d_11e8_ba0c_3035adde0af8row4_col6\" class=\"data row4 col6\" >0.67</td> \n",
       "    </tr>    <tr> \n",
       "        <th id=\"T_49423274_b41d_11e8_ba0c_3035adde0af8level0_row5\" class=\"row_heading level0 row5\" >registered</th> \n",
       "        <td id=\"T_49423274_b41d_11e8_ba0c_3035adde0af8row5_col0\" class=\"data row5 col0\" >0.54</td> \n",
       "        <td id=\"T_49423274_b41d_11e8_ba0c_3035adde0af8row5_col1\" class=\"data row5 col1\" >0.54</td> \n",
       "        <td id=\"T_49423274_b41d_11e8_ba0c_3035adde0af8row5_col2\" class=\"data row5 col2\" >-0.091</td> \n",
       "        <td id=\"T_49423274_b41d_11e8_ba0c_3035adde0af8row5_col3\" class=\"data row5 col3\" >-0.22</td> \n",
       "        <td id=\"T_49423274_b41d_11e8_ba0c_3035adde0af8row5_col4\" class=\"data row5 col4\" >0.4</td> \n",
       "        <td id=\"T_49423274_b41d_11e8_ba0c_3035adde0af8row5_col5\" class=\"data row5 col5\" >1</td> \n",
       "        <td id=\"T_49423274_b41d_11e8_ba0c_3035adde0af8row5_col6\" class=\"data row5 col6\" >0.95</td> \n",
       "    </tr>    <tr> \n",
       "        <th id=\"T_49423274_b41d_11e8_ba0c_3035adde0af8level0_row6\" class=\"row_heading level0 row6\" >cnt</th> \n",
       "        <td id=\"T_49423274_b41d_11e8_ba0c_3035adde0af8row6_col0\" class=\"data row6 col0\" >0.63</td> \n",
       "        <td id=\"T_49423274_b41d_11e8_ba0c_3035adde0af8row6_col1\" class=\"data row6 col1\" >0.63</td> \n",
       "        <td id=\"T_49423274_b41d_11e8_ba0c_3035adde0af8row6_col2\" class=\"data row6 col2\" >-0.1</td> \n",
       "        <td id=\"T_49423274_b41d_11e8_ba0c_3035adde0af8row6_col3\" class=\"data row6 col3\" >-0.23</td> \n",
       "        <td id=\"T_49423274_b41d_11e8_ba0c_3035adde0af8row6_col4\" class=\"data row6 col4\" >0.67</td> \n",
       "        <td id=\"T_49423274_b41d_11e8_ba0c_3035adde0af8row6_col5\" class=\"data row6 col5\" >0.95</td> \n",
       "        <td id=\"T_49423274_b41d_11e8_ba0c_3035adde0af8row6_col6\" class=\"data row6 col6\" >1</td> \n",
       "    </tr></tbody> \n",
       "</table> "
      ],
      "text/plain": [
       "<pandas.io.formats.style.Styler at 0x10d3ecf28>"
      ]
     },
     "execution_count": 6,
     "metadata": {},
     "output_type": "execute_result"
    },
    {
     "data": {
      "image/png": "[encoded data removed]",
      "text/plain": [
       "<matplotlib.figure.Figure at 0x10d84add8>"
      ]
     },
     "metadata": {},
     "output_type": "display_data"
    }
   ],
   "source": [
    "#Corelation Analysis\n",
    "data_corr = data.loc[:,num_var]\n",
    "f,ax = plt.subplots(figsize = (7,5))\n",
    "corr = data_corr.corr()\n",
    "\n",
    "import seaborn as sns\n",
    "sns.heatmap(corr,mask = np.zeros_like(corr, dtype = np.bool),cmap = sns.diverging_palette(220,10,as_cmap=True),\n",
    "            square = True, ax =ax)\n",
    "cmap = sns.diverging_palette(5, 250, as_cmap=True)\n",
    "#cmap = plt.cm.RdBu\n",
    "\n",
    "def magnify():\n",
    "    return [dict(selector=\"th\",\n",
    "                 props=[(\"font-size\", \"7pt\")]),\n",
    "            dict(selector=\"td\",\n",
    "                 props=[('padding', \"0em 0em\")]),\n",
    "            dict(selector=\"th:hover\",\n",
    "                 props=[(\"font-size\", \"12pt\")]),\n",
    "            dict(selector=\"tr:hover td:hover\",\n",
    "                 props=[('max-width', '200px'),\n",
    "                        ('font-size', '12pt')])\n",
    "]\n",
    "\n",
    "corr.style.background_gradient(cmap, axis=1)\\\n",
    "    .set_properties(**{'max-width': '80px', 'font-size': '10pt'})\\\n",
    "    .set_caption(\"Hover to magify\")\\\n",
    "    .set_precision(2)\\\n",
    "    .set_table_styles(magnify())"
   ]
  },
  {
   "cell_type": "code",
   "execution_count": 7,
   "metadata": {
    "scrolled": true
   },
   "outputs": [
    {
     "data": {
      "text/plain": [
       "<matplotlib.axes._subplots.AxesSubplot at 0x112244d68>"
      ]
     },
     "execution_count": 7,
     "metadata": {},
     "output_type": "execute_result"
    },
    {
     "data": {
      "image/png": "[encoded data removed]",
      "text/plain": [
       "<matplotlib.figure.Figure at 0x112244cf8>"
      ]
     },
     "metadata": {},
     "output_type": "display_data"
    }
   ],
   "source": [
    "#correlation plot\n",
    "colormap = plt.cm.RdBu\n",
    "plt.figure(figsize=(15,15))\n",
    "plt.title('Pearson Correlation of Features', y=1.0, size=10)\n",
    "sns.heatmap(data_corr.corr(),linewidths=0.2,vmax=1.0, square=True, cmap=colormap, linecolor='white', annot=True)"
   ]
  },
  {
   "cell_type": "code",
   "execution_count": 8,
   "metadata": {},
   "outputs": [],
   "source": [
    "# Drop 'atemp' as highly corelated\n",
    "data = data.drop(['atemp'],axis=1)\n",
    "data = data.drop(['dteday'],axis=1) # not required"
   ]
  },
  {
   "cell_type": "code",
   "execution_count": 9,
   "metadata": {},
   "outputs": [],
   "source": [
    "# Outlier Analysis, Capping and Flooring\n",
    "for i in ['hum','windspeed','casual'] :\n",
    "    q99, q01 = np.percentile(data[i],[99,1])\n",
    "    data.loc[data[i] > q99,i] = q99 \n",
    "    data.loc[data[i] < q01,i] = q01\n",
    "# as casual variable is altered, so we have to update total count variables as \n",
    "# it is sum of casual and registered users\n",
    "data['cnt'] = data['casual']+data['registered']"
   ]
  },
  {
   "cell_type": "code",
   "execution_count": 10,
   "metadata": {},
   "outputs": [],
   "source": [
    "# Changing data type of categorical variable to object from integer\n",
    "cat_var = ['season', 'yr', 'mnth', 'holiday', 'weekday', 'workingday', 'weathersit']\n",
    "for i in cat_var :\n",
    "    data[i] = data[i].astype('category')\n",
    "#data.info()"
   ]
  },
  {
   "cell_type": "code",
   "execution_count": 11,
   "metadata": {},
   "outputs": [
    {
     "name": "stdout",
     "output_type": "stream",
     "text": [
      "season [1, 2, 3, 4]\n",
      "Categories (4, int64): [1, 2, 3, 4]\n",
      "yr [0, 1]\n",
      "Categories (2, int64): [0, 1]\n",
      "mnth [1, 2, 3, 4, 5, ..., 8, 9, 10, 11, 12]\n",
      "Length: 12\n",
      "Categories (12, int64): [1, 2, 3, 4, ..., 9, 10, 11, 12]\n",
      "holiday [0, 1]\n",
      "Categories (2, int64): [0, 1]\n",
      "weekday [6, 0, 1, 2, 3, 4, 5]\n",
      "Categories (7, int64): [6, 0, 1, 2, 3, 4, 5]\n",
      "workingday [0, 1]\n",
      "Categories (2, int64): [0, 1]\n",
      "weathersit [2, 1, 3]\n",
      "Categories (3, int64): [2, 1, 3]\n"
     ]
    }
   ],
   "source": [
    "# check category  variables which do not require hot encoding\n",
    "cat_var = ['season', 'yr', 'mnth', 'holiday', 'weekday', 'workingday','weathersit']\n",
    "for i in cat_var :\n",
    "    print(i, data[i].unique())"
   ]
  },
  {
   "cell_type": "code",
   "execution_count": 12,
   "metadata": {},
   "outputs": [
    {
     "data": {
      "text/plain": [
       "((731, 38),\n",
       " Index(['cnt', 'temp', 'hum', 'windspeed', 'casual', 'registered', 'season_1',\n",
       "        'season_2', 'season_3', 'season_4', 'yr_0', 'yr_1', 'mnth_1', 'mnth_2',\n",
       "        'mnth_3', 'mnth_4', 'mnth_5', 'mnth_6', 'mnth_7', 'mnth_8', 'mnth_9',\n",
       "        'mnth_10', 'mnth_11', 'mnth_12', 'holiday_0', 'holiday_1', 'weekday_0',\n",
       "        'weekday_1', 'weekday_2', 'weekday_3', 'weekday_4', 'weekday_5',\n",
       "        'weekday_6', 'workingday_0', 'workingday_1', 'weathersit_1',\n",
       "        'weathersit_2', 'weathersit_3'],\n",
       "       dtype='object'))"
      ]
     },
     "execution_count": 12,
     "metadata": {},
     "output_type": "execute_result"
    }
   ],
   "source": [
    "num_var = ['temp','hum', 'windspeed','casual','registered']\n",
    "df1 = data.applymap(int)\n",
    "for i in cat_var:\n",
    "    df1[i].astype('str')\n",
    "temp = pd.DataFrame(df1['cnt'])\n",
    "temp = temp.join(data[num_var])\n",
    "for i in cat_var:\n",
    "    d = pd.get_dummies(df1[i],prefix = i)\n",
    "    temp = temp.join(d)\n",
    "data_hotencod = temp\n",
    "data_hotencod.shape,data_hotencod.columns"
   ]
  },
  {
   "cell_type": "code",
   "execution_count": 13,
   "metadata": {},
   "outputs": [],
   "source": [
    "new_data = data_hotencod.drop(['cnt','registered','casual'],axis=1)\n",
    "cas_data = pd.DataFrame(data_hotencod['casual']).join(new_data)\n",
    "reg_data = pd.DataFrame(data_hotencod['registered']).join(new_data)"
   ]
  },
  {
   "cell_type": "code",
   "execution_count": 14,
   "metadata": {},
   "outputs": [],
   "source": [
    "#selecting topfeatures for 'casual'\n",
    "from sklearn.feature_selection import SelectKBest, f_regression\n",
    "cas_new = SelectKBest(f_regression,k=30).fit_transform(cas_data.iloc[:,1:],cas_data.iloc[:,0])\n",
    "\n",
    "##selecting top features for 'registered'\n",
    "from sklearn.model_selection import train_test_split\n",
    "from sklearn.feature_selection import SelectKBest, f_regression\n",
    "reg_new = SelectKBest(f_regression,k=30).fit_transform(reg_data.iloc[:,1:],reg_data.iloc[:,0])"
   ]
  },
  {
   "cell_type": "code",
   "execution_count": 15,
   "metadata": {},
   "outputs": [],
   "source": [
    "# Selecting train and test sample\n",
    "# observations for 'casual' and 'registered' should be in same order, so to compare thr\n",
    "# summation to 'cnt' of data\n",
    "\n",
    "# train : test, ratio(80:20)\n",
    "\n",
    "## 'casual' customers\n",
    "X_train_cas=cas_new[:485:1]\n",
    "X_test_cas=cas_new[486::1]\n",
    "y_train_cas=cas_data.iloc[:485,0]\n",
    "y_test_cas=cas_data.iloc[486:,0]\n",
    "\n",
    "\n",
    "## 'registered' customers\n",
    "\n",
    "X_train_reg=reg_new[:485:1]\n",
    "X_test_reg=reg_new[486::1]\n",
    "y_train_reg=reg_data.iloc[:485,0]\n",
    "y_test_reg=reg_data.iloc[486:,0]\n",
    "\n",
    "y_test_count=data_hotencod.iloc[486:,0]"
   ]
  },
  {
   "cell_type": "code",
   "execution_count": 16,
   "metadata": {},
   "outputs": [],
   "source": [
    "# Defining Model to predict and calculate error metrics\n",
    "def model_pred(model) :\n",
    "    cas_model = model.fit(X_train_cas,y_train_cas)\n",
    "    cas_pred = model.predict(X_test_cas)\n",
    "    print('Casual :')\n",
    "    print('RMSE : ',np.sqrt(mean_squared_error(y_test_cas,cas_pred)))\n",
    "    print('Model Score :', model.score(X_test_cas, y_test_cas))\n",
    "    \n",
    "    reg_model = model.fit(X_train_reg,y_train_reg)\n",
    "    reg_pred = model.predict(X_test_reg)\n",
    "    print('Registered :')\n",
    "    print('RMSE : ',np.sqrt(mean_squared_error(y_test_reg,reg_pred)))\n",
    "    print('Model Score :', model.score(X_test_reg, y_test_reg))\n",
    "    \n",
    "    cnt_pred = cas_pred + reg_pred\n",
    "    \n",
    "    print('Count :')\n",
    "    print('RMSE : ',np.sqrt(mean_squared_error(y_test_count,cnt_pred)))\n",
    "    return"
   ]
  },
  {
   "cell_type": "code",
   "execution_count": 17,
   "metadata": {},
   "outputs": [
    {
     "name": "stdout",
     "output_type": "stream",
     "text": [
      "Casual :\n",
      "RMSE :  903.6861970703715\n",
      "Model Score : -0.5651589376065702\n",
      "Registered :\n",
      "RMSE :  1089.1115551640414\n",
      "Model Score : 0.3561179589239176\n",
      "Count :\n",
      "RMSE :  1385.7789345155088\n"
     ]
    }
   ],
   "source": [
    "#Decision Tree\n",
    "from sklearn.tree import DecisionTreeRegressor\n",
    "from sklearn.metrics import mean_squared_error\n",
    "model = DecisionTreeRegressor()\n",
    "model_pred(model)"
   ]
  },
  {
   "cell_type": "code",
   "execution_count": 18,
   "metadata": {},
   "outputs": [
    {
     "name": "stdout",
     "output_type": "stream",
     "text": [
      "Casual :\n",
      "RMSE :  413.84647783338943\n",
      "Model Score : 0.6717523130559503\n",
      "Registered :\n",
      "RMSE :  1042.684738762863\n",
      "Model Score : 0.40984292963373886\n",
      "Count :\n",
      "RMSE :  1120.7926148274876\n"
     ]
    }
   ],
   "source": [
    "#Random forest\n",
    "from sklearn.ensemble import RandomForestRegressor\n",
    "model = RandomForestRegressor()\n",
    "model_pred(model)"
   ]
  },
  {
   "cell_type": "code",
   "execution_count": 19,
   "metadata": {},
   "outputs": [
    {
     "name": "stdout",
     "output_type": "stream",
     "text": [
      "Casual :\n",
      "RMSE :  424.9209000388145\n",
      "Model Score : 0.6539496178882476\n",
      "Registered :\n",
      "RMSE :  903.1730955328001\n",
      "Model Score : 0.5572041270279229\n",
      "Count :\n",
      "RMSE :  1051.715014306732\n"
     ]
    }
   ],
   "source": [
    "#Linear Regression\n",
    "from sklearn.linear_model import LinearRegression\n",
    "model = LinearRegression()\n",
    "model_pred(model)"
   ]
  },
  {
   "cell_type": "code",
   "execution_count": 20,
   "metadata": {},
   "outputs": [
    {
     "name": "stdout",
     "output_type": "stream",
     "text": [
      "Casual :\n",
      "RMSE :  418.29190291508917\n",
      "Model Score : 0.6646625455000048\n",
      "Registered :\n",
      "RMSE :  910.5746161979094\n",
      "Model Score : 0.5499169484223905\n",
      "Count :\n",
      "RMSE :  1058.751163972777\n"
     ]
    }
   ],
   "source": [
    "#Ridge Regression\n",
    "from sklearn.linear_model import Ridge\n",
    "model=Ridge()\n",
    "model_pred(model)"
   ]
  },
  {
   "cell_type": "code",
   "execution_count": 21,
   "metadata": {},
   "outputs": [
    {
     "name": "stdout",
     "output_type": "stream",
     "text": [
      "Casual :\n",
      "RMSE :  418.3696542090059\n",
      "Model Score : 0.6645378701524947\n",
      "Registered :\n",
      "RMSE :  901.2962307577742\n",
      "Model Score : 0.5590425442001858\n",
      "Count :\n",
      "RMSE :  1049.5571529310841\n"
     ]
    }
   ],
   "source": [
    "#Lasso regression\n",
    "from sklearn.linear_model import Lasso\n",
    "model=Lasso()\n",
    "model_pred(model)"
   ]
  },
  {
   "cell_type": "code",
   "execution_count": 22,
   "metadata": {},
   "outputs": [
    {
     "name": "stdout",
     "output_type": "stream",
     "text": [
      "Casual :\n",
      "RMSE :  438.0828673911513\n",
      "Model Score : 0.632179707138155\n",
      "Registered :\n",
      "RMSE :  988.5553438873961\n",
      "Model Score : 0.4695266669733078\n",
      "Count :\n",
      "RMSE :  1153.1921703661671\n"
     ]
    },
    {
     "name": "stderr",
     "output_type": "stream",
     "text": [
      "/anaconda3/lib/python3.6/site-packages/sklearn/linear_model/least_angle.py:313: ConvergenceWarning: Regressors in active set degenerate. Dropping a regressor, after 2 iterations, i.e. alpha=6.395e+00, with an active set of 2 regressors, and the smallest cholesky pivot element being 1.054e-08. Reduce max_iter or increase eps parameters.\n",
      "  ConvergenceWarning)\n",
      "/anaconda3/lib/python3.6/site-packages/sklearn/linear_model/least_angle.py:313: ConvergenceWarning: Regressors in active set degenerate. Dropping a regressor, after 13 iterations, i.e. alpha=1.572e+00, with an active set of 13 regressors, and the smallest cholesky pivot element being 1.054e-08. Reduce max_iter or increase eps parameters.\n",
      "  ConvergenceWarning)\n",
      "/anaconda3/lib/python3.6/site-packages/sklearn/linear_model/least_angle.py:313: ConvergenceWarning: Regressors in active set degenerate. Dropping a regressor, after 13 iterations, i.e. alpha=1.572e+00, with an active set of 13 regressors, and the smallest cholesky pivot element being 1.825e-08. Reduce max_iter or increase eps parameters.\n",
      "  ConvergenceWarning)\n",
      "/anaconda3/lib/python3.6/site-packages/sklearn/linear_model/least_angle.py:313: ConvergenceWarning: Regressors in active set degenerate. Dropping a regressor, after 18 iterations, i.e. alpha=8.559e-01, with an active set of 18 regressors, and the smallest cholesky pivot element being 1.490e-08. Reduce max_iter or increase eps parameters.\n",
      "  ConvergenceWarning)\n",
      "/anaconda3/lib/python3.6/site-packages/sklearn/linear_model/least_angle.py:313: ConvergenceWarning: Regressors in active set degenerate. Dropping a regressor, after 19 iterations, i.e. alpha=6.175e-01, with an active set of 19 regressors, and the smallest cholesky pivot element being 1.054e-08. Reduce max_iter or increase eps parameters.\n",
      "  ConvergenceWarning)\n",
      "/anaconda3/lib/python3.6/site-packages/sklearn/linear_model/least_angle.py:313: ConvergenceWarning: Regressors in active set degenerate. Dropping a regressor, after 19 iterations, i.e. alpha=6.045e-01, with an active set of 19 regressors, and the smallest cholesky pivot element being 1.490e-08. Reduce max_iter or increase eps parameters.\n",
      "  ConvergenceWarning)\n",
      "/anaconda3/lib/python3.6/site-packages/sklearn/linear_model/least_angle.py:313: ConvergenceWarning: Regressors in active set degenerate. Dropping a regressor, after 22 iterations, i.e. alpha=2.865e-01, with an active set of 22 regressors, and the smallest cholesky pivot element being 1.490e-08. Reduce max_iter or increase eps parameters.\n",
      "  ConvergenceWarning)\n",
      "/anaconda3/lib/python3.6/site-packages/sklearn/linear_model/least_angle.py:313: ConvergenceWarning: Regressors in active set degenerate. Dropping a regressor, after 22 iterations, i.e. alpha=2.865e-01, with an active set of 22 regressors, and the smallest cholesky pivot element being 1.054e-08. Reduce max_iter or increase eps parameters.\n",
      "  ConvergenceWarning)\n",
      "/anaconda3/lib/python3.6/site-packages/sklearn/linear_model/least_angle.py:313: ConvergenceWarning: Regressors in active set degenerate. Dropping a regressor, after 25 iterations, i.e. alpha=9.960e-02, with an active set of 24 regressors, and the smallest cholesky pivot element being 1.054e-08. Reduce max_iter or increase eps parameters.\n",
      "  ConvergenceWarning)\n",
      "/anaconda3/lib/python3.6/site-packages/sklearn/linear_model/least_angle.py:313: ConvergenceWarning: Regressors in active set degenerate. Dropping a regressor, after 25 iterations, i.e. alpha=8.774e-02, with an active set of 24 regressors, and the smallest cholesky pivot element being 2.220e-16. Reduce max_iter or increase eps parameters.\n",
      "  ConvergenceWarning)\n",
      "/anaconda3/lib/python3.6/site-packages/sklearn/linear_model/least_angle.py:313: ConvergenceWarning: Regressors in active set degenerate. Dropping a regressor, after 26 iterations, i.e. alpha=3.220e-02, with an active set of 25 regressors, and the smallest cholesky pivot element being 1.054e-08. Reduce max_iter or increase eps parameters.\n",
      "  ConvergenceWarning)\n",
      "/anaconda3/lib/python3.6/site-packages/sklearn/linear_model/least_angle.py:313: ConvergenceWarning: Regressors in active set degenerate. Dropping a regressor, after 26 iterations, i.e. alpha=2.535e-02, with an active set of 25 regressors, and the smallest cholesky pivot element being 9.541e-08. Reduce max_iter or increase eps parameters.\n",
      "  ConvergenceWarning)\n",
      "/anaconda3/lib/python3.6/site-packages/sklearn/linear_model/least_angle.py:313: ConvergenceWarning: Regressors in active set degenerate. Dropping a regressor, after 26 iterations, i.e. alpha=2.335e-02, with an active set of 25 regressors, and the smallest cholesky pivot element being 9.541e-08. Reduce max_iter or increase eps parameters.\n",
      "  ConvergenceWarning)\n",
      "/anaconda3/lib/python3.6/site-packages/sklearn/linear_model/least_angle.py:313: ConvergenceWarning: Regressors in active set degenerate. Dropping a regressor, after 26 iterations, i.e. alpha=2.039e-02, with an active set of 25 regressors, and the smallest cholesky pivot element being 1.490e-08. Reduce max_iter or increase eps parameters.\n",
      "  ConvergenceWarning)\n",
      "/anaconda3/lib/python3.6/site-packages/sklearn/linear_model/least_angle.py:313: ConvergenceWarning: Regressors in active set degenerate. Dropping a regressor, after 27 iterations, i.e. alpha=8.855e-03, with an active set of 26 regressors, and the smallest cholesky pivot element being 1.490e-08. Reduce max_iter or increase eps parameters.\n",
      "  ConvergenceWarning)\n",
      "/anaconda3/lib/python3.6/site-packages/sklearn/linear_model/least_angle.py:313: ConvergenceWarning: Regressors in active set degenerate. Dropping a regressor, after 27 iterations, i.e. alpha=8.855e-03, with an active set of 26 regressors, and the smallest cholesky pivot element being 1.054e-08. Reduce max_iter or increase eps parameters.\n",
      "  ConvergenceWarning)\n",
      "/anaconda3/lib/python3.6/site-packages/sklearn/linear_model/least_angle.py:313: ConvergenceWarning: Regressors in active set degenerate. Dropping a regressor, after 27 iterations, i.e. alpha=7.953e-03, with an active set of 26 regressors, and the smallest cholesky pivot element being 9.541e-08. Reduce max_iter or increase eps parameters.\n",
      "  ConvergenceWarning)\n",
      "/anaconda3/lib/python3.6/site-packages/sklearn/linear_model/least_angle.py:313: ConvergenceWarning: Regressors in active set degenerate. Dropping a regressor, after 27 iterations, i.e. alpha=5.607e-03, with an active set of 26 regressors, and the smallest cholesky pivot element being 9.541e-08. Reduce max_iter or increase eps parameters.\n",
      "  ConvergenceWarning)\n",
      "/anaconda3/lib/python3.6/site-packages/sklearn/linear_model/least_angle.py:313: ConvergenceWarning: Regressors in active set degenerate. Dropping a regressor, after 4 iterations, i.e. alpha=1.163e+01, with an active set of 4 regressors, and the smallest cholesky pivot element being 1.490e-08. Reduce max_iter or increase eps parameters.\n",
      "  ConvergenceWarning)\n",
      "/anaconda3/lib/python3.6/site-packages/sklearn/linear_model/least_angle.py:313: ConvergenceWarning: Regressors in active set degenerate. Dropping a regressor, after 15 iterations, i.e. alpha=2.877e+00, with an active set of 15 regressors, and the smallest cholesky pivot element being 2.220e-16. Reduce max_iter or increase eps parameters.\n",
      "  ConvergenceWarning)\n",
      "/anaconda3/lib/python3.6/site-packages/sklearn/linear_model/least_angle.py:313: ConvergenceWarning: Regressors in active set degenerate. Dropping a regressor, after 15 iterations, i.e. alpha=2.877e+00, with an active set of 15 regressors, and the smallest cholesky pivot element being 1.825e-08. Reduce max_iter or increase eps parameters.\n",
      "  ConvergenceWarning)\n",
      "/anaconda3/lib/python3.6/site-packages/sklearn/linear_model/least_angle.py:313: ConvergenceWarning: Regressors in active set degenerate. Dropping a regressor, after 15 iterations, i.e. alpha=2.726e+00, with an active set of 15 regressors, and the smallest cholesky pivot element being 9.657e-08. Reduce max_iter or increase eps parameters.\n",
      "  ConvergenceWarning)\n",
      "/anaconda3/lib/python3.6/site-packages/sklearn/linear_model/least_angle.py:313: ConvergenceWarning: Regressors in active set degenerate. Dropping a regressor, after 17 iterations, i.e. alpha=3.233e+00, with an active set of 16 regressors, and the smallest cholesky pivot element being 9.771e-08. Reduce max_iter or increase eps parameters.\n",
      "  ConvergenceWarning)\n",
      "/anaconda3/lib/python3.6/site-packages/sklearn/linear_model/least_angle.py:313: ConvergenceWarning: Regressors in active set degenerate. Dropping a regressor, after 19 iterations, i.e. alpha=1.593e+00, with an active set of 18 regressors, and the smallest cholesky pivot element being 9.771e-08. Reduce max_iter or increase eps parameters.\n",
      "  ConvergenceWarning)\n",
      "/anaconda3/lib/python3.6/site-packages/sklearn/linear_model/least_angle.py:313: ConvergenceWarning: Regressors in active set degenerate. Dropping a regressor, after 22 iterations, i.e. alpha=1.307e+00, with an active set of 21 regressors, and the smallest cholesky pivot element being 1.825e-08. Reduce max_iter or increase eps parameters.\n",
      "  ConvergenceWarning)\n",
      "/anaconda3/lib/python3.6/site-packages/sklearn/linear_model/least_angle.py:313: ConvergenceWarning: Regressors in active set degenerate. Dropping a regressor, after 22 iterations, i.e. alpha=1.307e+00, with an active set of 21 regressors, and the smallest cholesky pivot element being 2.220e-16. Reduce max_iter or increase eps parameters.\n",
      "  ConvergenceWarning)\n",
      "/anaconda3/lib/python3.6/site-packages/sklearn/linear_model/least_angle.py:313: ConvergenceWarning: Regressors in active set degenerate. Dropping a regressor, after 22 iterations, i.e. alpha=1.307e+00, with an active set of 21 regressors, and the smallest cholesky pivot element being 1.490e-08. Reduce max_iter or increase eps parameters.\n",
      "  ConvergenceWarning)\n",
      "/anaconda3/lib/python3.6/site-packages/sklearn/linear_model/least_angle.py:313: ConvergenceWarning: Regressors in active set degenerate. Dropping a regressor, after 22 iterations, i.e. alpha=9.940e-01, with an active set of 21 regressors, and the smallest cholesky pivot element being 2.107e-08. Reduce max_iter or increase eps parameters.\n",
      "  ConvergenceWarning)\n",
      "/anaconda3/lib/python3.6/site-packages/sklearn/linear_model/least_angle.py:313: ConvergenceWarning: Regressors in active set degenerate. Dropping a regressor, after 22 iterations, i.e. alpha=6.652e-01, with an active set of 21 regressors, and the smallest cholesky pivot element being 9.657e-08. Reduce max_iter or increase eps parameters.\n",
      "  ConvergenceWarning)\n",
      "/anaconda3/lib/python3.6/site-packages/sklearn/linear_model/least_angle.py:313: ConvergenceWarning: Regressors in active set degenerate. Dropping a regressor, after 22 iterations, i.e. alpha=3.679e-01, with an active set of 21 regressors, and the smallest cholesky pivot element being 9.657e-08. Reduce max_iter or increase eps parameters.\n",
      "  ConvergenceWarning)\n",
      "/anaconda3/lib/python3.6/site-packages/sklearn/linear_model/least_angle.py:313: ConvergenceWarning: Regressors in active set degenerate. Dropping a regressor, after 23 iterations, i.e. alpha=1.105e-01, with an active set of 22 regressors, and the smallest cholesky pivot element being 7.376e-08. Reduce max_iter or increase eps parameters.\n",
      "  ConvergenceWarning)\n",
      "/anaconda3/lib/python3.6/site-packages/sklearn/linear_model/least_angle.py:313: ConvergenceWarning: Regressors in active set degenerate. Dropping a regressor, after 24 iterations, i.e. alpha=5.921e-02, with an active set of 23 regressors, and the smallest cholesky pivot element being 7.451e-08. Reduce max_iter or increase eps parameters.\n",
      "  ConvergenceWarning)\n",
      "/anaconda3/lib/python3.6/site-packages/sklearn/linear_model/least_angle.py:313: ConvergenceWarning: Regressors in active set degenerate. Dropping a regressor, after 24 iterations, i.e. alpha=4.667e-02, with an active set of 23 regressors, and the smallest cholesky pivot element being 9.657e-08. Reduce max_iter or increase eps parameters.\n",
      "  ConvergenceWarning)\n",
      "/anaconda3/lib/python3.6/site-packages/sklearn/linear_model/least_angle.py:313: ConvergenceWarning: Regressors in active set degenerate. Dropping a regressor, after 24 iterations, i.e. alpha=3.132e-02, with an active set of 23 regressors, and the smallest cholesky pivot element being 2.220e-16. Reduce max_iter or increase eps parameters.\n",
      "  ConvergenceWarning)\n",
      "/anaconda3/lib/python3.6/site-packages/sklearn/linear_model/least_angle.py:313: ConvergenceWarning: Regressors in active set degenerate. Dropping a regressor, after 24 iterations, i.e. alpha=3.132e-02, with an active set of 23 regressors, and the smallest cholesky pivot element being 1.825e-08. Reduce max_iter or increase eps parameters.\n",
      "  ConvergenceWarning)\n",
      "/anaconda3/lib/python3.6/site-packages/sklearn/linear_model/least_angle.py:313: ConvergenceWarning: Regressors in active set degenerate. Dropping a regressor, after 25 iterations, i.e. alpha=1.959e-02, with an active set of 24 regressors, and the smallest cholesky pivot element being 9.771e-08. Reduce max_iter or increase eps parameters.\n",
      "  ConvergenceWarning)\n",
      "/anaconda3/lib/python3.6/site-packages/sklearn/linear_model/least_angle.py:313: ConvergenceWarning: Regressors in active set degenerate. Dropping a regressor, after 25 iterations, i.e. alpha=1.392e-02, with an active set of 24 regressors, and the smallest cholesky pivot element being 1.490e-08. Reduce max_iter or increase eps parameters.\n",
      "  ConvergenceWarning)\n",
      "/anaconda3/lib/python3.6/site-packages/sklearn/linear_model/least_angle.py:313: ConvergenceWarning: Regressors in active set degenerate. Dropping a regressor, after 25 iterations, i.e. alpha=5.913e-03, with an active set of 24 regressors, and the smallest cholesky pivot element being 2.581e-08. Reduce max_iter or increase eps parameters.\n",
      "  ConvergenceWarning)\n",
      "/anaconda3/lib/python3.6/site-packages/sklearn/linear_model/least_angle.py:313: ConvergenceWarning: Regressors in active set degenerate. Dropping a regressor, after 25 iterations, i.e. alpha=5.913e-03, with an active set of 24 regressors, and the smallest cholesky pivot element being 1.054e-08. Reduce max_iter or increase eps parameters.\n",
      "  ConvergenceWarning)\n",
      "/anaconda3/lib/python3.6/site-packages/sklearn/linear_model/least_angle.py:313: ConvergenceWarning: Regressors in active set degenerate. Dropping a regressor, after 25 iterations, i.e. alpha=3.744e-03, with an active set of 24 regressors, and the smallest cholesky pivot element being 2.581e-08. Reduce max_iter or increase eps parameters.\n",
      "  ConvergenceWarning)\n",
      "/anaconda3/lib/python3.6/site-packages/sklearn/linear_model/least_angle.py:313: ConvergenceWarning: Regressors in active set degenerate. Dropping a regressor, after 25 iterations, i.e. alpha=8.975e-04, with an active set of 24 regressors, and the smallest cholesky pivot element being 2.581e-08. Reduce max_iter or increase eps parameters.\n",
      "  ConvergenceWarning)\n"
     ]
    }
   ],
   "source": [
    "#Lars Regression\n",
    "from sklearn.linear_model import Lars\n",
    "model=Lars()\n",
    "model_pred(model)"
   ]
  },
  {
   "cell_type": "code",
   "execution_count": 23,
   "metadata": {},
   "outputs": [
    {
     "data": {
      "text/plain": [
       "(731, 36)"
      ]
     },
     "execution_count": 23,
     "metadata": {},
     "output_type": "execute_result"
    }
   ],
   "source": [
    "cas_data.shape"
   ]
  },
  {
   "cell_type": "code",
   "execution_count": 24,
   "metadata": {},
   "outputs": [
    {
     "data": {
      "text/plain": [
       "Text(0.5,1,'For Registered')"
      ]
     },
     "execution_count": 24,
     "metadata": {},
     "output_type": "execute_result"
    },
    {
     "data": {
      "image/png": "[encoded data removed]",
      "text/plain": [
       "<matplotlib.figure.Figure at 0x1a1ee42240>"
      ]
     },
     "metadata": {},
     "output_type": "display_data"
    },
    {
     "data": {
      "image/png": "[encoded data removed]",
      "text/plain": [
       "<matplotlib.figure.Figure at 0x1a1eed3f60>"
      ]
     },
     "metadata": {},
     "output_type": "display_data"
    }
   ],
   "source": [
    "# PCA feature engineering/dimensionality reduction\n",
    "from sklearn.decomposition import PCA\n",
    "from sklearn.preprocessing import scale\n",
    "y_test_count=data_hotencod.iloc[485:,0]\n",
    "\n",
    "pca_cas = PCA(n_components=36)\n",
    "pca_reg=PCA(n_components=36)\n",
    "\n",
    "pca_cas.fit(scale(cas_data.values))\n",
    "pca_reg.fit(scale(reg_data.values))\n",
    "\n",
    "#The amount of variance that each PC explained\n",
    "var_cas= pca_cas.explained_variance_ratio_\n",
    "var_reg= pca_reg.explained_variance_ratio_\n",
    "\n",
    "#Cumulative Variance \n",
    "var1_cas=np.cumsum(np.round(pca_cas.explained_variance_ratio_, decimals=4)*100)\n",
    "var1_reg=np.cumsum(np.round(pca_reg.explained_variance_ratio_, decimals=4)*100)\n",
    "\n",
    "\n",
    "#graph of the variance\n",
    "    \n",
    "\n",
    "plt.plot(var1_cas)\n",
    "plt.title('For Casual')\n",
    "plt.figure()\n",
    "plt.plot(var1_reg)\n",
    "plt.title('For Registered')"
   ]
  },
  {
   "cell_type": "code",
   "execution_count": 25,
   "metadata": {},
   "outputs": [],
   "source": [
    "# 25 componentsaround ~100% variance in the data set.\n",
    "\n",
    " \n",
    "#Looking at above 25 variables to be opted\n",
    "pca_cas = PCA(n_components=25)\n",
    "pca_reg = PCA(n_components=25)\n",
    "\n",
    "\n",
    "#now fitting the selected components to the data\n",
    "pca_cas.fit(cas_data.values)\n",
    "pca_cas.fit(reg_data.values)\n",
    "\n",
    "\n",
    "#PCA selected features\n",
    "X_cas=pca_cas.fit_transform(cas_data.values)\n",
    "X_reg=pca_reg.fit_transform(reg_data.values)\n",
    "\n",
    "#splitting train and test data\n",
    "\n",
    "X_train_cas=X_cas[:485:1]\n",
    "X_test_cas=X_cas[486::1]\n",
    "y_train_cas=cas_data.iloc[:485,0]\n",
    "y_test_cas=cas_data.iloc[486:,0]\n",
    "\n",
    "X_train_reg=X_reg[:485:1]\n",
    "X_test_reg=X_reg[486::1]\n",
    "y_train_reg=reg_data.iloc[:485,0]\n",
    "y_test_reg=reg_data.iloc[486:,0]\n",
    "\n",
    "y_test_count=data_hotencod.iloc[486:,0]"
   ]
  },
  {
   "cell_type": "code",
   "execution_count": 26,
   "metadata": {},
   "outputs": [
    {
     "name": "stdout",
     "output_type": "stream",
     "text": [
      "Casual :\n",
      "RMSE :  42.5152851265022\n",
      "Model Score : 0.9965357171829309\n",
      "Registered :\n",
      "RMSE :  289.28379540809794\n",
      "Model Score : 0.9545734458969894\n",
      "Count :\n",
      "RMSE :  289.1646090067746\n"
     ]
    }
   ],
   "source": [
    "#Decision Tree\n",
    "from sklearn.tree import DecisionTreeRegressor\n",
    "from sklearn.metrics import mean_squared_error\n",
    "model = DecisionTreeRegressor()\n",
    "model_pred(model)"
   ]
  },
  {
   "cell_type": "code",
   "execution_count": 27,
   "metadata": {},
   "outputs": [
    {
     "name": "stdout",
     "output_type": "stream",
     "text": [
      "Casual :\n",
      "RMSE :  35.67581348413966\n",
      "Model Score : 0.9975606679766904\n",
      "Registered :\n",
      "RMSE :  339.8425087223402\n",
      "Model Score : 0.9373072987792951\n",
      "Count :\n",
      "RMSE :  342.11128959412474\n"
     ]
    }
   ],
   "source": [
    "#Random forest\n",
    "from sklearn.ensemble import RandomForestRegressor\n",
    "model = RandomForestRegressor()\n",
    "model_pred(model)"
   ]
  },
  {
   "cell_type": "code",
   "execution_count": 28,
   "metadata": {},
   "outputs": [
    {
     "name": "stdout",
     "output_type": "stream",
     "text": [
      "Casual :\n",
      "RMSE :  3.547339111275124e-06\n",
      "Model Score : 1.0\n",
      "Registered :\n",
      "RMSE :  3.782118120433597e-06\n",
      "Model Score : 1.0\n",
      "Count :\n",
      "RMSE :  0.11814831217788235\n"
     ]
    }
   ],
   "source": [
    "#Linear Regression\n",
    "from sklearn.linear_model import LinearRegression\n",
    "model = LinearRegression()\n",
    "model_pred(model)"
   ]
  },
  {
   "cell_type": "code",
   "execution_count": 29,
   "metadata": {},
   "outputs": [
    {
     "name": "stdout",
     "output_type": "stream",
     "text": [
      "Casual :\n",
      "RMSE :  8.930311115663387e-06\n",
      "Model Score : 0.9999999999999999\n",
      "Registered :\n",
      "RMSE :  9.066035869074959e-06\n",
      "Model Score : 1.0\n",
      "Count :\n",
      "RMSE :  0.11814817778624645\n"
     ]
    }
   ],
   "source": [
    "#Ridge Regression\n",
    "from sklearn.linear_model import Ridge\n",
    "model=Ridge()\n",
    "model_pred(model)"
   ]
  },
  {
   "cell_type": "code",
   "execution_count": 30,
   "metadata": {},
   "outputs": [
    {
     "name": "stdout",
     "output_type": "stream",
     "text": [
      "Casual :\n",
      "RMSE :  0.0024515655065256528\n",
      "Model Score : 0.9999999999884811\n",
      "Registered :\n",
      "RMSE :  0.001788723282169211\n",
      "Model Score : 0.9999999999982632\n",
      "Count :\n",
      "RMSE :  0.11768478358674006\n"
     ]
    }
   ],
   "source": [
    "#Lasso regression\n",
    "from sklearn.linear_model import Lasso\n",
    "model=Lasso()\n",
    "model_pred(model)"
   ]
  },
  {
   "cell_type": "code",
   "execution_count": 31,
   "metadata": {},
   "outputs": [
    {
     "name": "stdout",
     "output_type": "stream",
     "text": [
      "Casual :\n",
      "RMSE :  1.3444259826313079e-05\n",
      "Model Score : 0.9999999999999997\n",
      "Registered :\n",
      "RMSE :  1.8683109041878958e-05\n",
      "Model Score : 0.9999999999999998\n",
      "Count :\n",
      "RMSE :  0.11815049878536144\n"
     ]
    }
   ],
   "source": [
    "#Lars Regression\n",
    "from sklearn.linear_model import Lars\n",
    "model=Lars()\n",
    "model_pred(model)"
   ]
  },
  {
   "cell_type": "code",
   "execution_count": 32,
   "metadata": {},
   "outputs": [
    {
     "ename": "SyntaxError",
     "evalue": "invalid syntax (<ipython-input-32-0bd232f64fd4>, line 1)",
     "output_type": "error",
     "traceback": [
      "\u001b[0;36m  File \u001b[0;32m\"<ipython-input-32-0bd232f64fd4>\"\u001b[0;36m, line \u001b[0;32m1\u001b[0m\n\u001b[0;31m    scale()?\u001b[0m\n\u001b[0m           ^\u001b[0m\n\u001b[0;31mSyntaxError\u001b[0m\u001b[0;31m:\u001b[0m invalid syntax\n"
     ]
    }
   ],
   "source": [
    "scale()?"
   ]
  },
  {
   "cell_type": "code",
   "execution_count": 40,
   "metadata": {},
   "outputs": [
    {
     "ename": "AttributeError",
     "evalue": "'numpy.ndarray' object has no attribute 'info'",
     "output_type": "error",
     "traceback": [
      "\u001b[0;31m---------------------------------------------------------------------------\u001b[0m",
      "\u001b[0;31mAttributeError\u001b[0m                            Traceback (most recent call last)",
      "\u001b[0;32m<ipython-input-40-ee994596b44c>\u001b[0m in \u001b[0;36m<module>\u001b[0;34m()\u001b[0m\n\u001b[0;32m----> 1\u001b[0;31m \u001b[0mscale\u001b[0m\u001b[0;34m(\u001b[0m\u001b[0mreg_data\u001b[0m\u001b[0;34m.\u001b[0m\u001b[0mvalues\u001b[0m\u001b[0;34m)\u001b[0m\u001b[0;34m.\u001b[0m\u001b[0minfo\u001b[0m\u001b[0;34m(\u001b[0m\u001b[0;34m)\u001b[0m\u001b[0;34m\u001b[0m\u001b[0m\n\u001b[0m",
      "\u001b[0;31mAttributeError\u001b[0m: 'numpy.ndarray' object has no attribute 'info'"
     ]
    }
   ],
   "source": [
    "scale(reg_data.values)[]"
   ]
  },
  {
   "cell_type": "code",
   "execution_count": null,
   "metadata": {},
   "outputs": [],
   "source": []
  }
 ],
 "metadata": {
  "celltoolbar": "Slideshow",
  "kernelspec": {
   "display_name": "Python 3",
   "language": "python",
   "name": "python3"
  },
  "language_info": {
   "codemirror_mode": {
    "name": "ipython",
    "version": 3
   },
   "file_extension": ".py",
   "mimetype": "text/x-python",
   "name": "python",
   "nbconvert_exporter": "python",
   "pygments_lexer": "ipython3",
   "version": "3.6.4"
  }
 },
 "nbformat": 4,
 "nbformat_minor": 2
}
